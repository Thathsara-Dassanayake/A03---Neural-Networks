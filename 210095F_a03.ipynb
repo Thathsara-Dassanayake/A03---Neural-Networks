{
 "cells": [
  {
   "cell_type": "markdown",
   "id": "ef96c0a9",
   "metadata": {},
   "source": [
    "## EN3160 Assignment 3 on Neural Networks\n",
    "* Name: D.M.T.K.R Dassanayake\n",
    "* Index no: 210095F\n",
    "* GitHub Link - https://github.com/Thathsara-Dassanayake/A03---Neural-Networks"
   ]
  },
  {
   "cell_type": "code",
   "execution_count": 1,
   "id": "8ae328b5",
   "metadata": {},
   "outputs": [],
   "source": [
    "import torch\n",
    "import torch.nn as nn\n",
    "import torch.optim as optim\n",
    "import torchvision\n",
    "import matplotlib.pyplot as plt\n",
    "import torchvision.transforms as transforms\n",
    "from torchvision import datasets, models, transforms\n",
    "from torchvision.datasets.utils import download_and_extract_archive\n",
    "import time\n",
    "import os\n",
    "import copy"
   ]
  },
  {
   "cell_type": "markdown",
   "id": "45c0de14",
   "metadata": {},
   "source": [
    "# 1.)"
   ]
  },
  {
   "cell_type": "markdown",
   "id": "a0826310",
   "metadata": {},
   "source": [
    "## Loading and Preprocessing the CIFAR-10 Dataset\n",
    " \n"
   ]
  },
  {
   "cell_type": "code",
   "execution_count": 30,
   "id": "8cf7ac88",
   "metadata": {},
   "outputs": [
    {
     "name": "stdout",
     "output_type": "stream",
     "text": [
      "Downloading https://www.cs.toronto.edu/~kriz/cifar-10-python.tar.gz to ./data\\cifar-10-python.tar.gz\n"
     ]
    },
    {
     "name": "stderr",
     "output_type": "stream",
     "text": [
      "100%|██████████| 170498071/170498071 [06:10<00:00, 459835.65it/s] \n"
     ]
    },
    {
     "name": "stdout",
     "output_type": "stream",
     "text": [
      "Extracting ./data\\cifar-10-python.tar.gz to ./data\n",
      "Files already downloaded and verified\n"
     ]
    }
   ],
   "source": [
    "transform = transforms.Compose([\n",
    "    transforms.ToTensor(),\n",
    "    transforms.Normalize((0.5,), (0.5,))\n",
    "])\n",
    "\n",
    "batch_size = 50\n",
    "\n",
    "trainset = torchvision.datasets.CIFAR10(root='./data', train=True, download=True, transform=transform)\n",
    "trainloader = torch.utils.data.DataLoader(trainset, batch_size=batch_size, shuffle=True, num_workers=2)\n",
    "\n",
    "testset = torchvision.datasets.CIFAR10(root='./data', train=False, download=True, transform=transform)\n",
    "testloader = torch.utils.data.DataLoader(testset, batch_size=batch_size, shuffle=False, num_workers=2)"
   ]
  },
  {
   "cell_type": "markdown",
   "id": "dc964583",
   "metadata": {},
   "source": [
    "## Defining the DenseNet Model\n",
    "\n"
   ]
  },
  {
   "cell_type": "code",
   "execution_count": 4,
   "id": "7a8d04b8",
   "metadata": {},
   "outputs": [],
   "source": [
    "class DenseNet(nn.Module):\n",
    "    def __init__(self):\n",
    "        super(DenseNet, self).__init__()\n",
    "        self.fc1 = nn.Linear(3 * 32 * 32, 100)\n",
    "        self.fc2 = nn.Linear(100, 10)\n",
    "        self.sigmoid = nn.Sigmoid()\n",
    "\n",
    "    def forward(self, x):\n",
    "        x = x.view(-1, 3 * 32 * 32)  # Flatten input\n",
    "        x = self.sigmoid(self.fc1(x))\n",
    "        x = self.fc2(x)\n",
    "        return x\n",
    "\n",
    "net = DenseNet()"
   ]
  },
  {
   "cell_type": "markdown",
   "id": "cc8695b6",
   "metadata": {},
   "source": [
    "## Defining Loss Function and Optimizer\n",
    "\n",
    "* Loss Function: Cross Entropy Loss             \n",
    "* Optimizer: Stochastic Gradient Descent (SGD)"
   ]
  },
  {
   "cell_type": "code",
   "execution_count": 5,
   "id": "047d04f4",
   "metadata": {},
   "outputs": [],
   "source": [
    "criterion = nn.CrossEntropyLoss()\n",
    "optimizer = optim.SGD(net.parameters(), lr=0.01, momentum=0.9)"
   ]
  },
  {
   "cell_type": "markdown",
   "id": "745187e9",
   "metadata": {},
   "source": [
    "## Training the Model (10 epochs)"
   ]
  },
  {
   "cell_type": "code",
   "execution_count": 7,
   "id": "43f88554",
   "metadata": {},
   "outputs": [
    {
     "name": "stdout",
     "output_type": "stream",
     "text": [
      "Epoch 1, Loss: 1.5281388096809387\n",
      "Epoch 2, Loss: 1.4858244388103485\n",
      "Epoch 3, Loss: 1.4481692979335785\n",
      "Epoch 4, Loss: 1.4157750597596168\n",
      "Epoch 5, Loss: 1.3827905995845795\n",
      "Epoch 6, Loss: 1.3525626794695855\n",
      "Epoch 7, Loss: 1.3244896228909493\n",
      "Epoch 8, Loss: 1.2983281452655793\n",
      "Epoch 9, Loss: 1.2728201203346252\n",
      "Epoch 10, Loss: 1.2484825713038445\n"
     ]
    }
   ],
   "source": [
    "lossHistory = []\n",
    "\n",
    "for epoch in range(10):\n",
    "    running_loss = 0.0\n",
    "    for i, data in enumerate(trainloader, 0):\n",
    "        inputs, labels = data\n",
    "        optimizer.zero_grad()\n",
    "\n",
    "        outputs = net(inputs)\n",
    "        loss = criterion(outputs, labels)\n",
    "        loss.backward()\n",
    "        optimizer.step()\n",
    "\n",
    "        running_loss += loss.item()\n",
    "    print(f\"Epoch {epoch+1}, Loss: {running_loss / len(trainloader)}\")\n",
    "    lossHistory.append(running_loss / len(trainloader))"
   ]
  },
  {
   "cell_type": "markdown",
   "id": "ba8687f9",
   "metadata": {},
   "source": [
    "## Evaluating the Model"
   ]
  },
  {
   "cell_type": "code",
   "execution_count": null,
   "id": "aba7400a",
   "metadata": {},
   "outputs": [
    {
     "name": "stdout",
     "output_type": "stream",
     "text": [
      "Training Accuracy: 58.962%\n",
      "Test Accuracy: 48.98%\n"
     ]
    },
    {
     "data": {
      "image/png": "[encoded data removed]",
      "text/plain": [
       "<Figure size 640x480 with 1 Axes>"
      ]
     },
     "metadata": {},
     "output_type": "display_data"
    }
   ],
   "source": [
    "def calculate_accuracy(loader, net):\n",
    "    correct = 0\n",
    "    total = 0\n",
    "    with torch.no_grad():\n",
    "        for data in loader:\n",
    "            images, labels = data\n",
    "            outputs = net(images)\n",
    "            _, predicted = torch.max(outputs, 1)\n",
    "            total += labels.size(0)\n",
    "            correct += (predicted == labels).sum().item()\n",
    "    return 100 * correct / total\n",
    "\n",
    "print(f\"Training Accuracy: {calculate_accuracy(trainloader, net)}%\")\n",
    "print(f\"Test Accuracy: {calculate_accuracy(testloader, net)}%\")\n",
    "\n",
    "\n",
    "plt.plot(lossHistory)\n",
    "plt.xlabel(\"Epoch\")\n",
    "plt.ylabel(\"Loss\")\n",
    "plt.title(\"Training Loss\")\n",
    "plt.show()"
   ]
  },
  {
   "cell_type": "markdown",
   "id": "656099d4",
   "metadata": {},
   "source": [
    "# 2.)"
   ]
  },
  {
   "cell_type": "markdown",
   "id": "b7fc63f1",
   "metadata": {},
   "source": [
    "## Data Loading\n",
    "\n",
    "Transformations are applied to convert images into tensors and normalize them. The training and test datasets are downloaded and preprocessed using these specified transformations. DataLoaders batch and shuffle the training data, while the test data is loaded without shuffling. The datasets are now prepared for model training and evaluation."
   ]
  },
  {
   "cell_type": "code",
   "execution_count": 32,
   "id": "7eda53d2",
   "metadata": {},
   "outputs": [],
   "source": [
    "transform = transforms.Compose([transforms.ToTensor(), transforms.Normalize((0.5,), (0.5,))])\n",
    "\n",
    "trainset = torchvision.datasets.MNIST(root='./data', train=True, download=True, transform=transform)\n",
    "trainloader = torch.utils.data.DataLoader(trainset, batch_size=64, shuffle=True)\n",
    "\n",
    "testset = torchvision.datasets.MNIST(root='./data', train=False, download=True, transform=transform)\n",
    "testloader = torch.utils.data.DataLoader(testset, batch_size=64, shuffle=False)"
   ]
  },
  {
   "cell_type": "markdown",
   "id": "957a4761",
   "metadata": {},
   "source": [
    "## Define LeNet-5"
   ]
  },
  {
   "cell_type": "markdown",
   "id": "2d70c475",
   "metadata": {},
   "source": [
    "1. **Convolutional Layers**: Two convolutional layers—conv1 with 6 filters and conv2 with 16 filters—are used to extract features from the input image.\n",
    "\n",
    "2. **Fully Connected Layers**: Three fully connected layers (fc1, fc2, and fc3) gradually reduce the dimensions, ultimately producing the output class predictions.\n",
    "\n",
    "3. **Activation Functions**: ReLU activation is applied after each convolutional and fully connected layer, except the final output layer, which generates the class scores."
   ]
  },
  {
   "cell_type": "code",
   "execution_count": null,
   "id": "f61cee4b",
   "metadata": {},
   "outputs": [],
   "source": [
    "class LeNet5(nn.Module):\n",
    "    def __init__(self):\n",
    "        super(LeNet5, self).__init__()\n",
    "        self.conv1 = nn.Conv2d(1, 6, kernel_size=5)\n",
    "        self.pool = nn.MaxPool2d(kernel_size=2, stride=2)\n",
    "        self.conv2 = nn.Conv2d(6, 16, kernel_size=5)\n",
    "        self.fc1 = nn.Linear(16 * 4 * 4, 120)\n",
    "        self.fc2 = nn.Linear(120, 84)\n",
    "        self.fc3 = nn.Linear(84, 10)\n",
    "\n",
    "    def forward(self, x):\n",
    "        x = self.pool(torch.relu(self.conv1(x)))\n",
    "        x = self.pool(torch.relu(self.conv2(x)))\n",
    "        x = x.view(-1, 16 * 4 * 4)\n",
    "        x = torch.relu(self.fc1(x))\n",
    "        x = torch.relu(self.fc2(x))\n",
    "        x = self.fc3(x)\n",
    "        return x\n",
    "\n",
    "net = LeNet5()"
   ]
  },
  {
   "cell_type": "markdown",
   "id": "5ec0368c",
   "metadata": {},
   "source": [
    "## Create the network, loss function, and optimizer"
   ]
  },
  {
   "cell_type": "code",
   "execution_count": null,
   "id": "614ce7c0",
   "metadata": {},
   "outputs": [],
   "source": [
    "criterion = nn.CrossEntropyLoss()\n",
    "optimizer = optim.Adam(net.parameters(), lr=0.001)"
   ]
  },
  {
   "cell_type": "markdown",
   "id": "324b42f8",
   "metadata": {},
   "source": [
    "## Training Loop"
   ]
  },
  {
   "cell_type": "code",
   "execution_count": 19,
   "id": "06106c6a",
   "metadata": {},
   "outputs": [
    {
     "name": "stdout",
     "output_type": "stream",
     "text": [
      "Epoch 1, Loss: 0.031032480643630258\n",
      "Epoch 2, Loss: 0.026747279995017307\n",
      "Epoch 3, Loss: 0.023302047181213502\n",
      "Epoch 4, Loss: 0.02093320400029337\n",
      "Epoch 5, Loss: 0.01763631874251075\n",
      "Epoch 6, Loss: 0.015645337530706946\n",
      "Epoch 7, Loss: 0.014471996399378866\n",
      "Epoch 8, Loss: 0.01176667094349658\n",
      "Epoch 9, Loss: 0.011563556197335415\n",
      "Epoch 10, Loss: 0.010485651169626698\n"
     ]
    }
   ],
   "source": [
    "lossHistory = []\n",
    "for epoch in range(10):\n",
    "    running_loss = 0.0\n",
    "    for i, data in enumerate(trainloader, 0):\n",
    "        inputs, labels = data\n",
    "        optimizer.zero_grad()\n",
    "        outputs = net(inputs)\n",
    "        loss = criterion(outputs, labels)\n",
    "        loss.backward()\n",
    "        optimizer.step()\n",
    "        running_loss += loss.item()\n",
    "    print(f\"Epoch {epoch+1}, Loss: {running_loss / len(trainloader)}\")\n",
    "    lossHistory.append(running_loss / len(trainloader))"
   ]
  },
  {
   "cell_type": "code",
   "execution_count": 20,
   "id": "937029d8",
   "metadata": {},
   "outputs": [
    {
     "name": "stdout",
     "output_type": "stream",
     "text": [
      "Training Accuracy: 99.63%\n",
      "Test Accuracy: 98.71%\n"
     ]
    },
    {
     "data": {
      "image/png": "[encoded data removed]",
      "text/plain": [
       "<Figure size 640x480 with 1 Axes>"
      ]
     },
     "metadata": {},
     "output_type": "display_data"
    }
   ],
   "source": [
    "def calculate_accuracy(loader, model):\n",
    "    correct = 0\n",
    "    total = 0\n",
    "    with torch.no_grad():\n",
    "        for data in loader:\n",
    "            inputs, labels = data\n",
    "            outputs = model(inputs)\n",
    "            _, predicted = torch.max(outputs, 1)  # Get the class with the highest score\n",
    "            total += labels.size(0)\n",
    "            correct += (predicted == labels).sum().item()\n",
    "    return 100 * correct / total\n",
    "\n",
    "print(f\"Training Accuracy: {calculate_accuracy(trainloader, net)}%\")\n",
    "print(f\"Test Accuracy: {calculate_accuracy(testloader, net)}%\")\n",
    "\n",
    "plt.plot(lossHistory)\n",
    "plt.xlabel(\"Epoch\")\n",
    "plt.ylabel(\"Loss\")\n",
    "plt.title(\"Training Loss\")\n",
    "plt.show()"
   ]
  },
  {
   "cell_type": "markdown",
   "id": "59b90148",
   "metadata": {},
   "source": [
    "# 3.)"
   ]
  },
  {
   "cell_type": "markdown",
   "id": "d55fef79",
   "metadata": {},
   "source": [
    "## Load and Transform Data"
   ]
  },
  {
   "cell_type": "markdown",
   "id": "ca1d4f01",
   "metadata": {},
   "source": [
    "The \"Hymenoptera\" dataset, which includes images of ants and bees, is downloaded and extracted. Data transformations are then applied for both training and validation purposes."
   ]
  },
  {
   "cell_type": "code",
   "execution_count": 40,
   "id": "cea95a37",
   "metadata": {},
   "outputs": [
    {
     "name": "stdout",
     "output_type": "stream",
     "text": [
      "Using downloaded and verified file: data_3\\hymenoptera_data.zip\n",
      "Extracting data_3\\hymenoptera_data.zip to data_3\n"
     ]
    }
   ],
   "source": [
    "url = \"https://download.pytorch.org/tutorial/hymenoptera_data.zip\"\n",
    "data_dir = \"data_3/hymenoptera_data\"  # Target directory for dataset\n",
    "\n",
    "# Download and extract the dataset\n",
    "download_and_extract_archive(url, download_root='data_3', extract_root='data_3', filename='hymenoptera_data.zip')\n",
    "\n",
    "data_transforms = {\n",
    "    'train': transforms.Compose([\n",
    "        transforms.RandomResizedCrop(224),\n",
    "        transforms.RandomHorizontalFlip(),\n",
    "        transforms.ToTensor(),\n",
    "        transforms.Normalize([0.485, 0.456, 0.406], [0.229, 0.224, 0.225])\n",
    "    ]),\n",
    "    'val': transforms.Compose([\n",
    "        transforms.Resize(256),\n",
    "        transforms.CenterCrop(224),\n",
    "        transforms.ToTensor(),\n",
    "        transforms.Normalize([0.485, 0.456, 0.406], [0.229, 0.224, 0.225])\n",
    "    ]),\n",
    "}\n",
    "\n",
    "image_datasets = {x: datasets.ImageFolder(os.path.join(data_dir, x),data_transforms[x])for x in ['train', 'val']}\n",
    "dataloaders = {x: torch.utils.data.DataLoader(image_datasets[x], batch_size=4,shuffle=True, num_workers=4)for x in ['train', 'val']}\n",
    "dataset_sizes = {x: len(image_datasets[x]) for x in ['train', 'val']}\n",
    "class_names = image_datasets['train'].classes\n",
    "\n",
    "device = torch.device(\"cuda:0\" if torch.cuda.is_available() else \"cpu\")"
   ]
  },
  {
   "cell_type": "markdown",
   "id": "61a055f8",
   "metadata": {},
   "source": [
    "## Fine-Tuning the ResNet18 Model"
   ]
  },
  {
   "cell_type": "code",
   "execution_count": null,
   "id": "17e2c51d",
   "metadata": {},
   "outputs": [],
   "source": [
    "# Load pretrained model\n",
    "model_ft = models.resnet18(pretrained=True)\n",
    "\n",
    "# Modify the final layer to match the number of classes\n",
    "num_ftrs = model_ft.fc.in_features\n",
    "model_ft.fc = nn.Linear(num_ftrs, len(class_names))\n",
    "\n",
    "model_ft = model_ft.to(device)\n",
    "\n",
    "# Define loss and optimizer\n",
    "criterion = nn.CrossEntropyLoss()\n",
    "optimizer_ft = optim.SGD(model_ft.parameters(), lr=0.001, momentum=0.9)\n",
    "\n",
    "# Learning rate scheduler\n",
    "from torch.optim import lr_scheduler\n",
    "exp_lr_scheduler = lr_scheduler.StepLR(optimizer_ft, step_size=7, gamma=0.1)\n"
   ]
  },
  {
   "cell_type": "markdown",
   "id": "ddcb5e1a",
   "metadata": {},
   "source": [
    "## Train the Model"
   ]
  },
  {
   "cell_type": "code",
   "execution_count": 42,
   "id": "3f19a9b5",
   "metadata": {},
   "outputs": [
    {
     "name": "stdout",
     "output_type": "stream",
     "text": [
      "Epoch 0/9\n",
      "----------\n",
      "train Loss: 0.6518 Acc: 0.6762\n",
      "val Loss: 0.2366 Acc: 0.9216\n",
      "\n",
      "Epoch 1/9\n",
      "----------\n",
      "train Loss: 0.6230 Acc: 0.7582\n",
      "val Loss: 0.2310 Acc: 0.9020\n",
      "\n",
      "Epoch 2/9\n",
      "----------\n",
      "train Loss: 0.5553 Acc: 0.7623\n",
      "val Loss: 0.2541 Acc: 0.9085\n",
      "\n",
      "Epoch 3/9\n",
      "----------\n",
      "train Loss: 0.6025 Acc: 0.7418\n",
      "val Loss: 0.2979 Acc: 0.8954\n",
      "\n",
      "Epoch 4/9\n",
      "----------\n",
      "train Loss: 0.5275 Acc: 0.7951\n",
      "val Loss: 0.2586 Acc: 0.9020\n",
      "\n",
      "Epoch 5/9\n",
      "----------\n",
      "train Loss: 0.6520 Acc: 0.7910\n",
      "val Loss: 0.8884 Acc: 0.7647\n",
      "\n",
      "Epoch 6/9\n",
      "----------\n",
      "train Loss: 0.5813 Acc: 0.8279\n",
      "val Loss: 0.5042 Acc: 0.8497\n",
      "\n",
      "Epoch 7/9\n",
      "----------\n",
      "train Loss: 0.4077 Acc: 0.8443\n",
      "val Loss: 0.3881 Acc: 0.8693\n",
      "\n",
      "Epoch 8/9\n",
      "----------\n",
      "train Loss: 0.3768 Acc: 0.8484\n",
      "val Loss: 0.3240 Acc: 0.8889\n",
      "\n",
      "Epoch 9/9\n",
      "----------\n",
      "train Loss: 0.3720 Acc: 0.8484\n",
      "val Loss: 0.2888 Acc: 0.8889\n",
      "\n",
      "Training complete in 7m 25s\n",
      "Best val Acc: 0.9216\n"
     ]
    }
   ],
   "source": [
    "def train_model(model, criterion, optimizer, scheduler, num_epochs=25):\n",
    "    since = time.time()\n",
    "    best_model_wts = copy.deepcopy(model.state_dict())\n",
    "    best_acc = 0.0\n",
    "\n",
    "    for epoch in range(num_epochs):\n",
    "        print(f'Epoch {epoch}/{num_epochs - 1}')\n",
    "        print('-' * 10)\n",
    "\n",
    "        # Each epoch has a training and validation phase\n",
    "        for phase in ['train', 'val']:\n",
    "            if phase == 'train':\n",
    "                model.train()  # Set model to training mode\n",
    "            else:\n",
    "                model.eval()   # Set model to evaluate mode\n",
    "\n",
    "            running_loss = 0.0\n",
    "            running_corrects = 0\n",
    "\n",
    "            # Iterate over data.\n",
    "            for inputs, labels in dataloaders[phase]:\n",
    "                inputs = inputs.to(device)\n",
    "                labels = labels.to(device)\n",
    "\n",
    "                # Zero the parameter gradients\n",
    "                optimizer.zero_grad()\n",
    "\n",
    "                # Forward pass\n",
    "                with torch.set_grad_enabled(phase == 'train'):\n",
    "                    outputs = model(inputs)\n",
    "                    _, preds = torch.max(outputs, 1)\n",
    "                    loss = criterion(outputs, labels)\n",
    "\n",
    "                    # Backward pass + optimize only in training phase\n",
    "                    if phase == 'train':\n",
    "                        loss.backward()\n",
    "                        optimizer.step()\n",
    "\n",
    "                # Statistics\n",
    "                running_loss += loss.item() * inputs.size(0)\n",
    "                running_corrects += torch.sum(preds == labels.data)\n",
    "\n",
    "            if phase == 'train':\n",
    "                scheduler.step()\n",
    "\n",
    "            epoch_loss = running_loss / dataset_sizes[phase]\n",
    "            epoch_acc = running_corrects.double() / dataset_sizes[phase]\n",
    "\n",
    "            print(f'{phase} Loss: {epoch_loss:.4f} Acc: {epoch_acc:.4f}')\n",
    "\n",
    "            # Deep copy the model\n",
    "            if phase == 'val' and epoch_acc > best_acc:\n",
    "                best_acc = epoch_acc\n",
    "                best_model_wts = copy.deepcopy(model.state_dict())\n",
    "\n",
    "        print()\n",
    "\n",
    "    time_elapsed = time.time() - since\n",
    "    print(f'Training complete in {time_elapsed // 60:.0f}m {time_elapsed % 60:.0f}s')\n",
    "    print(f'Best val Acc: {best_acc:.4f}')\n",
    "\n",
    "    # Load best model weights\n",
    "    model.load_state_dict(best_model_wts)\n",
    "    return model\n",
    "\n",
    "# Train the fine-tuned model\n",
    "model_ft = train_model(model_ft, criterion, optimizer_ft, exp_lr_scheduler, num_epochs=10)\n"
   ]
  },
  {
   "cell_type": "markdown",
   "id": "acba0ef3",
   "metadata": {},
   "source": [
    "## Feature Extraction"
   ]
  },
  {
   "cell_type": "markdown",
   "id": "e9b18488",
   "metadata": {},
   "source": [
    "To use ResNet18 as a feature extractor, freeze its layers and replace the final layer"
   ]
  },
  {
   "cell_type": "code",
   "execution_count": 43,
   "id": "e2e2327f",
   "metadata": {},
   "outputs": [
    {
     "name": "stdout",
     "output_type": "stream",
     "text": [
      "Epoch 0/9\n",
      "----------\n",
      "train Loss: 0.7766 Acc: 0.6270\n",
      "val Loss: 0.1922 Acc: 0.9412\n",
      "\n",
      "Epoch 1/9\n",
      "----------\n",
      "train Loss: 0.4822 Acc: 0.7910\n",
      "val Loss: 0.1686 Acc: 0.9477\n",
      "\n",
      "Epoch 2/9\n",
      "----------\n",
      "train Loss: 0.5765 Acc: 0.7295\n",
      "val Loss: 0.1789 Acc: 0.9412\n",
      "\n",
      "Epoch 3/9\n",
      "----------\n",
      "train Loss: 0.5964 Acc: 0.7582\n",
      "val Loss: 0.1755 Acc: 0.9346\n",
      "\n",
      "Epoch 4/9\n",
      "----------\n",
      "train Loss: 0.4542 Acc: 0.8033\n",
      "val Loss: 0.1851 Acc: 0.9412\n",
      "\n",
      "Epoch 5/9\n",
      "----------\n",
      "train Loss: 0.6791 Acc: 0.7172\n",
      "val Loss: 0.2043 Acc: 0.9346\n",
      "\n",
      "Epoch 6/9\n",
      "----------\n",
      "train Loss: 0.3261 Acc: 0.8525\n",
      "val Loss: 0.2187 Acc: 0.9346\n",
      "\n",
      "Epoch 7/9\n",
      "----------\n",
      "train Loss: 0.3965 Acc: 0.8033\n",
      "val Loss: 0.2213 Acc: 0.9150\n",
      "\n",
      "Epoch 8/9\n",
      "----------\n",
      "train Loss: 0.5121 Acc: 0.7951\n",
      "val Loss: 0.1930 Acc: 0.9412\n",
      "\n",
      "Epoch 9/9\n",
      "----------\n",
      "train Loss: 0.5903 Acc: 0.7746\n",
      "val Loss: 0.2206 Acc: 0.9477\n",
      "\n",
      "Training complete in 5m 3s\n",
      "Best val Acc: 0.9477\n"
     ]
    }
   ],
   "source": [
    "# Load pretrained model\n",
    "model_conv = models.resnet18(pretrained=True)\n",
    "for param in model_conv.parameters():\n",
    "    param.requires_grad = False\n",
    "\n",
    "# Replace the final layer\n",
    "num_ftrs = model_conv.fc.in_features\n",
    "model_conv.fc = nn.Linear(num_ftrs, len(class_names))\n",
    "model_conv = model_conv.to(device)\n",
    "\n",
    "# Define loss and optimizer\n",
    "criterion = nn.CrossEntropyLoss()\n",
    "optimizer_conv = optim.SGD(model_conv.fc.parameters(), lr=0.001, momentum=0.9)\n",
    "\n",
    "# Train the feature extractor\n",
    "model_conv = train_model(model_conv, criterion, optimizer_conv, exp_lr_scheduler, num_epochs=10)\n"
   ]
  },
  {
   "cell_type": "markdown",
   "id": "ad926063",
   "metadata": {},
   "source": [
    "## Evaluate and Report Results"
   ]
  },
  {
   "cell_type": "code",
   "execution_count": 44,
   "id": "b2d0764f",
   "metadata": {},
   "outputs": [
    {
     "name": "stdout",
     "output_type": "stream",
     "text": [
      "Fine-tuned Model Results:\n",
      "val Accuracy: 0.9216\n",
      "\n",
      "Feature Extractor Model Results:\n",
      "val Accuracy: 0.9477\n"
     ]
    }
   ],
   "source": [
    "# Evaluate the fine-tuned model\n",
    "def evaluate_model(model, dataloaders, phase='val'):\n",
    "    model.eval()\n",
    "    corrects = 0\n",
    "    with torch.no_grad():\n",
    "        for inputs, labels in dataloaders[phase]:\n",
    "            inputs = inputs.to(device)\n",
    "            labels = labels.to(device)\n",
    "            outputs = model(inputs)\n",
    "            _, preds = torch.max(outputs, 1)\n",
    "            corrects += torch.sum(preds == labels.data)\n",
    "    accuracy = corrects.double() / dataset_sizes[phase]\n",
    "    print(f'{phase} Accuracy: {accuracy:.4f}')\n",
    "\n",
    "print(\"Fine-tuned Model Results:\")\n",
    "evaluate_model(model_ft, dataloaders)\n",
    "\n",
    "print(\"\\nFeature Extractor Model Results:\")\n",
    "evaluate_model(model_conv, dataloaders)"
   ]
  }
 ],
 "metadata": {
  "kernelspec": {
   "display_name": ".venv",
   "language": "python",
   "name": "python3"
  },
  "language_info": {
   "codemirror_mode": {
    "name": "ipython",
    "version": 3
   },
   "file_extension": ".py",
   "mimetype": "text/x-python",
   "name": "python",
   "nbconvert_exporter": "python",
   "pygments_lexer": "ipython3",
   "version": "3.8.8"
  }
 },
 "nbformat": 4,
 "nbformat_minor": 5
}
